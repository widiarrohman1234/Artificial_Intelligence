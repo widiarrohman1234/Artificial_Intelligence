{
 "cells": [
  {
   "cell_type": "code",
   "execution_count": 2,
   "metadata": {},
   "outputs": [
    {
     "name": "stdout",
     "output_type": "stream",
     "text": [
      "ML Dev Indonesia :\n",
      "                Name  Age\n",
      "0  Isyana Saraswati   30\n",
      "1  Nicholas Saputra   36\n",
      "2    Raisa Andriana   32\n",
      "\n",
      " Split:\n",
      "                Name  Age     First       Last\n",
      "0  Isyana Saraswati   30    Isyana  Saraswati\n",
      "1  Nicholas Saputra   36  Nicholas    Saputra\n",
      "2    Raisa Andriana   32     Raisa   Andriana\n"
     ]
    }
   ],
   "source": [
    "import pandas as pd\n",
    "\n",
    "Developer = pd.DataFrame({'Name': ['Isyana Saraswati', 'Nicholas Saputra', 'Raisa Andriana'], 'Age':[30, 36, 32]})\n",
    "\n",
    "print(\"ML Dev Indonesia :\\n\", Developer)\n",
    "\n",
    "Developer[['First','Last']] = Developer.Name.str.split(expand=True)\n",
    "print(\"\\n Split:\\n\",Developer)"
   ]
  }
 ],
 "metadata": {
  "kernelspec": {
   "display_name": "Python 3",
   "language": "python",
   "name": "python3"
  },
  "language_info": {
   "codemirror_mode": {
    "name": "ipython",
    "version": 3
   },
   "file_extension": ".py",
   "mimetype": "text/x-python",
   "name": "python",
   "nbconvert_exporter": "python",
   "pygments_lexer": "ipython3",
   "version": "3.10.12"
  }
 },
 "nbformat": 4,
 "nbformat_minor": 2
}
